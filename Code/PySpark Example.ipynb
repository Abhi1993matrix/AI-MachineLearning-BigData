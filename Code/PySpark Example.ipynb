{
 "cells": [
  {
   "cell_type": "code",
   "execution_count": 1,
   "id": "0618b93f",
   "metadata": {},
   "outputs": [
    {
     "data": {
      "text/plain": [
       "'C:\\\\spark\\\\spark'"
      ]
     },
     "execution_count": 1,
     "metadata": {},
     "output_type": "execute_result"
    }
   ],
   "source": [
    "import findspark\n",
    "findspark.init()\n",
    "findspark.find()"
   ]
  },
  {
   "cell_type": "code",
   "execution_count": 2,
   "id": "3d50b5b5",
   "metadata": {},
   "outputs": [],
   "source": [
    "from pyspark.sql import SparkSession\n",
    "spark = SparkSession.builder.appName(\"Python Basic Examples\").getOrCreate()"
   ]
  },
  {
   "cell_type": "code",
   "execution_count": 5,
   "id": "027970f0",
   "metadata": {},
   "outputs": [
    {
     "name": "stdout",
     "output_type": "stream",
     "text": [
      "root\n",
      " |-- _c0: integer (nullable = true)\n",
      " |-- id: integer (nullable = true)\n",
      " |-- track_name: string (nullable = true)\n",
      " |-- size_bytes: long (nullable = true)\n",
      " |-- currency: string (nullable = true)\n",
      " |-- price: double (nullable = true)\n",
      " |-- rating_count_tot: integer (nullable = true)\n",
      " |-- rating_count_ver: integer (nullable = true)\n",
      " |-- user_rating: double (nullable = true)\n",
      " |-- user_rating_ver: double (nullable = true)\n",
      " |-- ver: string (nullable = true)\n",
      " |-- cont_rating: string (nullable = true)\n",
      " |-- prime_genre: string (nullable = true)\n",
      " |-- sup_devices.num: integer (nullable = true)\n",
      " |-- ipadSc_urls.num: integer (nullable = true)\n",
      " |-- lang.num: integer (nullable = true)\n",
      " |-- vpp_lic: integer (nullable = true)\n",
      "\n",
      "+---+---------+--------------------------------------------------+----------+--------+-----+----------------+----------------+-----------+---------------+-------+-----------+-----------------+---------------+---------------+--------+-------+\n",
      "|_c0|id       |track_name                                        |size_bytes|currency|price|rating_count_tot|rating_count_ver|user_rating|user_rating_ver|ver    |cont_rating|prime_genre      |sup_devices.num|ipadSc_urls.num|lang.num|vpp_lic|\n",
      "+---+---------+--------------------------------------------------+----------+--------+-----+----------------+----------------+-----------+---------------+-------+-----------+-----------------+---------------+---------------+--------+-------+\n",
      "|1  |281656475|PAC-MAN Premium                                   |100788224 |USD     |3.99 |21292           |26              |4.0        |4.5            |6.3.5  |4+         |Games            |38             |5              |10      |1      |\n",
      "|2  |281796108|Evernote - stay organized                         |158578688 |USD     |0.0  |161065          |26              |4.0        |3.5            |8.2.2  |4+         |Productivity     |37             |5              |23      |1      |\n",
      "|3  |281940292|WeatherBug - Local Weather, Radar, Maps, Alerts   |100524032 |USD     |0.0  |188583          |2822            |3.5        |4.5            |5.0.0  |4+         |Weather          |37             |5              |3       |1      |\n",
      "|4  |282614216|eBay: Best App to Buy, Sell, Save! Online Shopping|128512000 |USD     |0.0  |262241          |649             |4.0        |4.5            |5.10.0 |12+        |Shopping         |37             |5              |9       |1      |\n",
      "|5  |282935706|Bible                                             |92774400  |USD     |0.0  |985920          |5320            |4.5        |5.0            |7.5.1  |4+         |Reference        |37             |5              |45      |1      |\n",
      "|6  |283619399|Shanghai Mahjong                                  |10485713  |USD     |0.99 |8253            |5516            |4.0        |4.0            |1.8    |4+         |Games            |47             |5              |1       |1      |\n",
      "|7  |283646709|PayPal - Send and request money safely            |227795968 |USD     |0.0  |119487          |879             |4.0        |4.5            |6.12.0 |4+         |Finance          |37             |0              |19      |1      |\n",
      "|8  |284035177|Pandora - Music & Radio                           |130242560 |USD     |0.0  |1126879         |3594            |4.0        |4.5            |8.4.1  |12+        |Music            |37             |4              |1       |1      |\n",
      "|9  |284666222|PCalc - The Best Calculator                       |49250304  |USD     |9.99 |1117            |4               |4.5        |5.0            |3.6.6  |4+         |Utilities        |37             |5              |1       |1      |\n",
      "|10 |284736660|Ms. PAC-MAN                                       |70023168  |USD     |3.99 |7885            |40              |4.0        |4.0            |4.0.4  |4+         |Games            |38             |0              |10      |1      |\n",
      "|11 |284791396|Solitaire by MobilityWare                         |49618944  |USD     |4.99 |76720           |4017            |4.5        |4.5            |4.10.1 |4+         |Games            |38             |4              |11      |1      |\n",
      "|12 |284815117|SCRABBLE Premium                                  |227547136 |USD     |7.99 |105776          |166             |3.5        |2.5            |5.19.0 |4+         |Games            |37             |0              |6       |1      |\n",
      "|13 |284815942|Google – Search made just for mobile              |179979264 |USD     |0.0  |479440          |203             |3.5        |4.0            |27.0   |17+        |Utilities        |37             |4              |33      |1      |\n",
      "|14 |284847138|Bank of America - Mobile Banking                  |160925696 |USD     |0.0  |119773          |2336            |3.5        |4.5            |7.3.8  |4+         |Finance          |37             |0              |2       |1      |\n",
      "|15 |284862767|FreeCell                                          |55153664  |USD     |4.99 |6340            |668             |4.5        |4.5            |4.0.3  |4+         |Games            |38             |5              |2       |1      |\n",
      "|16 |284876795|TripAdvisor Hotels Flights Restaurants            |207907840 |USD     |0.0  |56194           |87              |4.0        |3.5            |21.1   |4+         |Travel           |37             |1              |26      |1      |\n",
      "|17 |284882215|Facebook                                          |389879808 |USD     |0.0  |2974676         |212             |3.5        |3.5            |95.0   |4+         |Social Networking|37             |1              |29      |1      |\n",
      "|18 |284910350|Yelp - Nearby Restaurants, Shopping & Services    |167407616 |USD     |0.0  |223885          |3726            |4.0        |4.5            |11.15.0|12+        |Travel           |37             |5              |18      |1      |\n",
      "|20 |284993459|Shazam - Discover music, artists, videos & lyrics |147093504 |USD     |0.0  |402925          |136             |4.0        |4.5            |11.0.3 |12+        |Music            |37             |3              |16      |1      |\n",
      "|21 |285005463|Crash Bandicoot Nitro Kart 3D                     |10735026  |USD     |2.99 |31456           |4178            |4.0        |3.5            |1.0.0  |4+         |Games            |47             |0              |1       |1      |\n",
      "+---+---------+--------------------------------------------------+----------+--------+-----+----------------+----------------+-----------+---------------+-------+-----------+-----------------+---------------+---------------+--------+-------+\n",
      "only showing top 20 rows\n",
      "\n"
     ]
    }
   ],
   "source": [
    "dataSource = \"AppleStore.csv\"\n",
    "df = spark.read.csv(dataSource,inferSchema=True,header=True)\n",
    "df.printSchema()\n",
    "df.show(truncate=False)"
   ]
  },
  {
   "cell_type": "code",
   "execution_count": 6,
   "id": "150572ed",
   "metadata": {},
   "outputs": [],
   "source": [
    "df = df.select(['size_bytes','price','prime_genre','user_rating'])"
   ]
  },
  {
   "cell_type": "markdown",
   "id": "70bf5c47",
   "metadata": {},
   "source": [
    "## CAST Operations"
   ]
  },
  {
   "cell_type": "code",
   "execution_count": 7,
   "id": "6f113fa2",
   "metadata": {},
   "outputs": [],
   "source": [
    "from pyspark.sql.functions import col\n",
    "from pyspark.sql.types import StringType\n",
    "\n",
    "df_transformed = df.withColumn(\"price_new\",col(\"price\").cast(StringType()))"
   ]
  },
  {
   "cell_type": "markdown",
   "id": "d79b975e",
   "metadata": {},
   "source": [
    "## Create UDF"
   ]
  },
  {
   "cell_type": "code",
   "execution_count": 8,
   "id": "db17af98",
   "metadata": {},
   "outputs": [],
   "source": [
    "from pyspark.sql.functions import udf\n",
    "def leftPad(string):\n",
    "    string = str(string).rjust(10,'0')\n",
    "    return string\n",
    "convertUDF = udf(lambda z: leftPad(z),StringType())"
   ]
  },
  {
   "cell_type": "markdown",
   "id": "cdc34b6d",
   "metadata": {},
   "source": [
    "## Creating a UDF to change the Values to Upper Case"
   ]
  },
  {
   "cell_type": "code",
   "execution_count": 14,
   "id": "b08a833d",
   "metadata": {},
   "outputs": [],
   "source": [
    "convertUDF2 = udf(lambda z: str(z).upper(),StringType())"
   ]
  },
  {
   "cell_type": "code",
   "execution_count": 15,
   "id": "555bd315",
   "metadata": {},
   "outputs": [],
   "source": [
    "df_transformed = df_transformed. \\\n",
    "    withColumn(\n",
    "        \"price_new\", \n",
    "        convertUDF(col(\"price_new\")).alias(\"price_new\")\n",
    "    )\n",
    "df_transformed = df_transformed. \\\n",
    "    withColumn(\n",
    "        \"prime_genre\",\n",
    "        convertUDF2(col(\"prime_genre\")).alias(\"prime_genre\")\n",
    "    )"
   ]
  },
  {
   "cell_type": "code",
   "execution_count": 16,
   "id": "e56cae66",
   "metadata": {},
   "outputs": [],
   "source": [
    "from pyspark.sql.functions import substring, trim\n",
    "df_transformed = df_transformed.withColumn(\"price_new\",substring('price_new',6,4))\n",
    "df_transformed = df_transformed. \\\n",
    "    withColumn('prime_genre', trim('prime_genre'))"
   ]
  },
  {
   "cell_type": "code",
   "execution_count": 9,
   "id": "e7020a8a",
   "metadata": {},
   "outputs": [
    {
     "name": "stdout",
     "output_type": "stream",
     "text": [
      "+----------+-----+-----------------+-----------+---------+\n",
      "|size_bytes|price|      prime_genre|user_rating|price_new|\n",
      "+----------+-----+-----------------+-----------+---------+\n",
      "| 100788224| 3.99|            Games|        4.0|     3.99|\n",
      "| 158578688|  0.0|     Productivity|        4.0|      0.0|\n",
      "| 100524032|  0.0|          Weather|        3.5|      0.0|\n",
      "| 128512000|  0.0|         Shopping|        4.0|      0.0|\n",
      "|  92774400|  0.0|        Reference|        4.5|      0.0|\n",
      "|  10485713| 0.99|            Games|        4.0|     0.99|\n",
      "| 227795968|  0.0|          Finance|        4.0|      0.0|\n",
      "| 130242560|  0.0|            Music|        4.0|      0.0|\n",
      "|  49250304| 9.99|        Utilities|        4.5|     9.99|\n",
      "|  70023168| 3.99|            Games|        4.0|     3.99|\n",
      "|  49618944| 4.99|            Games|        4.5|     4.99|\n",
      "| 227547136| 7.99|            Games|        3.5|     7.99|\n",
      "| 179979264|  0.0|        Utilities|        3.5|      0.0|\n",
      "| 160925696|  0.0|          Finance|        3.5|      0.0|\n",
      "|  55153664| 4.99|            Games|        4.5|     4.99|\n",
      "| 207907840|  0.0|           Travel|        4.0|      0.0|\n",
      "| 389879808|  0.0|Social Networking|        3.5|      0.0|\n",
      "| 167407616|  0.0|           Travel|        4.0|      0.0|\n",
      "| 147093504|  0.0|            Music|        4.0|      0.0|\n",
      "|  10735026| 2.99|            Games|        4.0|     2.99|\n",
      "+----------+-----+-----------------+-----------+---------+\n",
      "only showing top 20 rows\n",
      "\n"
     ]
    }
   ],
   "source": [
    "df_transformed.show()"
   ]
  },
  {
   "cell_type": "markdown",
   "id": "805cf60e",
   "metadata": {},
   "source": [
    "# Analysis and Operations\n",
    "## Count Distinct"
   ]
  },
  {
   "cell_type": "code",
   "execution_count": 10,
   "id": "04e2c7e8",
   "metadata": {},
   "outputs": [
    {
     "name": "stdout",
     "output_type": "stream",
     "text": [
      "+-----------------+\n",
      "|prime_genre_count|\n",
      "+-----------------+\n",
      "|               23|\n",
      "+-----------------+\n",
      "\n"
     ]
    }
   ],
   "source": [
    "from pyspark.sql.functions import countDistinct\n",
    "df_distinct_count = df_transformed.select(countDistinct(\"prime_genre\").alias(\"prime_genre_count\"))\n",
    "df_distinct_count.show()"
   ]
  },
  {
   "cell_type": "markdown",
   "id": "7f358a3d",
   "metadata": {},
   "source": [
    "## Analyze Data using analytical or windowing functions"
   ]
  },
  {
   "cell_type": "code",
   "execution_count": 11,
   "id": "2931f584",
   "metadata": {},
   "outputs": [
    {
     "name": "stdout",
     "output_type": "stream",
     "text": [
      "+-----------------+---------+------------------+--------------------+------------------+\n",
      "|      prime_genre|frequency|           Percent|cumulative_frequency|cumulative_Percent|\n",
      "+-----------------+---------+------------------+--------------------+------------------+\n",
      "|            Games|     3862| 53.66124774211477|                3862| 53.66124774211477|\n",
      "|    Entertainment|      535| 7.433652910935112|                4397|61.094900653049876|\n",
      "|        Education|      453| 6.294289287203001|                4850| 67.38918994025288|\n",
      "|    Photo & Video|      349| 4.849242740030569|                5199| 72.23843268028344|\n",
      "|        Utilities|      248| 3.445880227872725|                5447| 75.68431290815616|\n",
      "| Health & Fitness|      180| 2.501042100875365|                5627| 78.18535500903153|\n",
      "|     Productivity|      178| 2.473252744198972|                5805|  80.6586077532305|\n",
      "|Social Networking|      167|2.3204112824788106|                5972| 82.97901903570931|\n",
      "|        Lifestyle|      144|2.0008336807002918|                6116| 84.97985271640961|\n",
      "|            Music|      138| 1.917465610671113|                6254| 86.89731832708073|\n",
      "|         Shopping|      122|1.6951507572599693|                6376| 88.59246908434069|\n",
      "|           Sports|      114|1.5839933305543976|                6490| 90.17646241489508|\n",
      "|             Book|      112|1.5562039738780047|                6602| 91.73266638877308|\n",
      "|          Finance|      104| 1.445046547172433|                6706| 93.17771293594552|\n",
      "|           Travel|       81|1.1254689453939142|                6787| 94.30318188133944|\n",
      "|             News|       75|1.0421008753647354|                6862| 95.34528275670418|\n",
      "|          Weather|       72|1.0004168403501459|                6934| 96.34569959705432|\n",
      "|        Reference|       64|0.8892594136445742|                6998|  97.2349590106989|\n",
      "|     Food & Drink|       63|0.8753647353063777|                7061| 98.11032374600528|\n",
      "|         Business|       57|0.7919966652771988|                7118| 98.90232041128247|\n",
      "+-----------------+---------+------------------+--------------------+------------------+\n",
      "only showing top 20 rows\n",
      "\n"
     ]
    }
   ],
   "source": [
    "from pyspark.sql.functions import count\n",
    "\n",
    "frequencies = df_transformed. \\\n",
    "    groupBy('prime_genre'). \\\n",
    "    agg(count('prime_genre').alias('frequency')). \\\n",
    "    selectExpr(\n",
    "    '*',\n",
    "    '100*Frequency / sum(Frequency) over() Percent'\n",
    "). \\\n",
    "    selectExpr(\n",
    "    '*',\n",
    "    'sum(Frequency) over(order by Frequency desc) cumulative_frequency',\n",
    "    'sum(Percent) over(order by Frequency desc) cumulative_Percent'\n",
    ")\n",
    "frequencies.show()"
   ]
  },
  {
   "cell_type": "markdown",
   "id": "51692b9b",
   "metadata": {},
   "source": [
    "## Dealing with Null Values"
   ]
  },
  {
   "cell_type": "code",
   "execution_count": 22,
   "id": "270057be",
   "metadata": {},
   "outputs": [
    {
     "name": "stdout",
     "output_type": "stream",
     "text": [
      "+----------+---------------+\n",
      "|Null_value|Not_null_values|\n",
      "+----------+---------------+\n",
      "|         0|           7197|\n",
      "+----------+---------------+\n",
      "\n"
     ]
    }
   ],
   "source": [
    "from pyspark.sql.functions import isnan\n",
    "\n",
    "null_values = df_transformed.filter(\n",
    "    df_transformed.price.contains('None') | \\\n",
    "    df_transformed.price.contains('NULL') | \\\n",
    "    (col(\"price\") == '') | \\\n",
    "    isnan(df_transformed.price) | \\\n",
    "    df_transformed.price.isNull()\n",
    ").count()\n",
    "Not_null_values = df_transformed.count() - null_values\n",
    "data = [(null_values, Not_null_values)]\n",
    "df_new = spark.createDataFrame(data, [\"Null_value\", \"Not_null_values\"])\n",
    "df_new.show()"
   ]
  },
  {
   "cell_type": "markdown",
   "id": "5320f727",
   "metadata": {},
   "source": [
    "## Create Dataframes for unique values and null values"
   ]
  },
  {
   "cell_type": "code",
   "execution_count": 24,
   "id": "7ce3d370",
   "metadata": {},
   "outputs": [
    {
     "name": "stdout",
     "output_type": "stream",
     "text": [
      "+----------+-----+-----------+-----------+---------+\n",
      "|size_bytes|price|prime_genre|user_rating|price_new|\n",
      "+----------+-----+-----------+-----------+---------+\n",
      "|  52120576| 0.99|       BOOK|        5.0|     00.9|\n",
      "|  39294976| 0.99|       BOOK|        5.0|     00.9|\n",
      "| 130731008|  0.0|       BOOK|        5.0|     000.|\n",
      "|  63058944|  0.0|       BOOK|        5.0|     000.|\n",
      "|  77494272|  0.0|       BOOK|        5.0|     000.|\n",
      "|  46465024| 3.99|       BOOK|        5.0|     03.9|\n",
      "| 135236608|  0.0|       BOOK|        5.0|     000.|\n",
      "|  35903488|  0.0|       BOOK|        5.0|     000.|\n",
      "|  30749696|  0.0|       BOOK|        5.0|     000.|\n",
      "| 805970944| 5.99|       BOOK|        5.0|     05.9|\n",
      "| 798962688| 5.99|       BOOK|        5.0|     05.9|\n",
      "| 307137536| 2.99|       BOOK|        5.0|     02.9|\n",
      "|  53123072| 1.99|       BOOK|        5.0|     01.9|\n",
      "|  81558528|  0.0|       BOOK|        4.5|     000.|\n",
      "|  36942848| 2.99|       BOOK|        4.5|     02.9|\n",
      "|  29496320| 1.99|       BOOK|        4.5|     01.9|\n",
      "| 121874432| 5.99|       BOOK|        4.5|     05.9|\n",
      "| 186402816| 2.99|       BOOK|        4.5|     02.9|\n",
      "| 915262464| 5.99|       BOOK|        4.5|     05.9|\n",
      "|  73193472|  0.0|       BOOK|        4.5|     000.|\n",
      "+----------+-----+-----------+-----------+---------+\n",
      "only showing top 20 rows\n",
      "\n",
      "+----------+-----+-----------------+-----------+---------+\n",
      "|size_bytes|price|      prime_genre|user_rating|price_new|\n",
      "+----------+-----+-----------------+-----------+---------+\n",
      "| 177553408| 3.99|             BOOK|        5.0|     03.9|\n",
      "|   8821760| 4.99|         BUSINESS|        5.0|     04.9|\n",
      "| 120219648|  0.0|         CATALOGS|        5.0|     000.|\n",
      "|  48819200| 4.99|        EDUCATION|        5.0|     04.9|\n",
      "|  96586752|  0.0|    ENTERTAINMENT|        5.0|     000.|\n",
      "|   3530752| 1.99|          FINANCE|        5.0|     01.9|\n",
      "| 105743360|  0.0|     FOOD & DRINK|        5.0|     000.|\n",
      "|   6169600| 2.99|            GAMES|        5.0|     02.9|\n",
      "| 425657344| 4.99| HEALTH & FITNESS|        5.0|     04.9|\n",
      "|  13282304| 0.99|        LIFESTYLE|        5.0|     00.9|\n",
      "|  66277376|  0.0|          MEDICAL|        5.0|     000.|\n",
      "|  13062144| 3.99|            MUSIC|        5.0|     03.9|\n",
      "|  24949760| 0.99|       NAVIGATION|        5.0|     00.9|\n",
      "|  92966912|  0.0|             NEWS|        5.0|     000.|\n",
      "|  58463232| 8.99|    PHOTO & VIDEO|        5.0|     08.9|\n",
      "|   7558144| 1.99|     PRODUCTIVITY|        5.0|     01.9|\n",
      "|  22264832| 1.99|        REFERENCE|        5.0|     01.9|\n",
      "|  70325248|  0.0|         SHOPPING|        5.0|     000.|\n",
      "|  79953920|  0.0|SOCIAL NETWORKING|        5.0|     000.|\n",
      "|  13518848| 1.99|           SPORTS|        5.0|     01.9|\n",
      "+----------+-----+-----------------+-----------+---------+\n",
      "only showing top 20 rows\n",
      "\n"
     ]
    }
   ],
   "source": [
    "from pyspark.sql.window import Window\n",
    "from pyspark.sql.functions import row_number\n",
    "\n",
    "w2 = Window. \\\n",
    "    partitionBy('prime_genre'). \\\n",
    "    orderBy(col(\"user_rating\").desc())\n",
    "df_duplicate = df_transformed. \\\n",
    "    withColumn(\"row\", row_number().over(w2)). \\\n",
    "    filter(col(\"row\") > 1). \\\n",
    "    drop(\"row\")\n",
    "df_unique = df_transformed. \\\n",
    "    withColumn(\"row\", row_number().over(w2)). \\\n",
    "    filter(col(\"row\") == 1). \\\n",
    "    drop(\"row\")\n",
    "df_duplicate.show()\n",
    "df_unique.show()"
   ]
  },
  {
   "cell_type": "code",
   "execution_count": null,
   "id": "ae995d3f",
   "metadata": {},
   "outputs": [],
   "source": []
  }
 ],
 "metadata": {
  "kernelspec": {
   "display_name": "Python 3 (ipykernel)",
   "language": "python",
   "name": "python3"
  },
  "language_info": {
   "codemirror_mode": {
    "name": "ipython",
    "version": 3
   },
   "file_extension": ".py",
   "mimetype": "text/x-python",
   "name": "python",
   "nbconvert_exporter": "python",
   "pygments_lexer": "ipython3",
   "version": "3.8.13"
  }
 },
 "nbformat": 4,
 "nbformat_minor": 5
}
